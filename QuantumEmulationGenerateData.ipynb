{
 "cells": [
  {
   "cell_type": "code",
   "execution_count": null,
   "metadata": {},
   "outputs": [],
   "source": []
  },
  {
   "cell_type": "code",
   "execution_count": 1,
   "metadata": {
    "colab": {
     "base_uri": "https://localhost:8080/"
    },
    "id": "R3s7z0f0Fvez",
    "outputId": "283ecf5a-6e56-400b-dbc6-ecc4118d3184"
   },
   "outputs": [
    {
     "name": "stdout",
     "output_type": "stream",
     "text": [
      "Requirement already satisfied: cirq==0.14.0 in /Users/crotello/opt/anaconda3/lib/python3.9/site-packages (0.14.0)\n",
      "Requirement already satisfied: cirq-google==0.14.0 in /Users/crotello/opt/anaconda3/lib/python3.9/site-packages (from cirq==0.14.0) (0.14.0)\n",
      "Requirement already satisfied: cirq-pasqal==0.14.0 in /Users/crotello/opt/anaconda3/lib/python3.9/site-packages (from cirq==0.14.0) (0.14.0)\n",
      "Requirement already satisfied: cirq-web==0.14.0 in /Users/crotello/opt/anaconda3/lib/python3.9/site-packages (from cirq==0.14.0) (0.14.0)\n",
      "Collecting cirq-core==0.14.0\n",
      "  Using cached cirq_core-0.14.0-py3-none-any.whl (1.8 MB)\n",
      "Requirement already satisfied: cirq-rigetti==0.14.0 in /Users/crotello/opt/anaconda3/lib/python3.9/site-packages (from cirq==0.14.0) (0.14.0)\n",
      "Requirement already satisfied: cirq-ionq==0.14.0 in /Users/crotello/opt/anaconda3/lib/python3.9/site-packages (from cirq==0.14.0) (0.14.0)\n",
      "Requirement already satisfied: cirq-aqt==0.14.0 in /Users/crotello/opt/anaconda3/lib/python3.9/site-packages (from cirq==0.14.0) (0.14.0)\n",
      "Requirement already satisfied: requests~=2.18 in /Users/crotello/opt/anaconda3/lib/python3.9/site-packages (from cirq-aqt==0.14.0->cirq==0.14.0) (2.28.1)\n",
      "Requirement already satisfied: matplotlib~=3.0 in /Users/crotello/opt/anaconda3/lib/python3.9/site-packages (from cirq-core==0.14.0->cirq==0.14.0) (3.5.2)\n",
      "Requirement already satisfied: pandas in /Users/crotello/opt/anaconda3/lib/python3.9/site-packages (from cirq-core==0.14.0->cirq==0.14.0) (1.4.4)\n",
      "Requirement already satisfied: networkx~=2.4 in /Users/crotello/opt/anaconda3/lib/python3.9/site-packages (from cirq-core==0.14.0->cirq==0.14.0) (2.8.4)\n",
      "Requirement already satisfied: sympy<1.10 in /Users/crotello/opt/anaconda3/lib/python3.9/site-packages (from cirq-core==0.14.0->cirq==0.14.0) (1.9)\n",
      "Requirement already satisfied: numpy~=1.16 in /Users/crotello/opt/anaconda3/lib/python3.9/site-packages (from cirq-core==0.14.0->cirq==0.14.0) (1.21.5)\n",
      "Requirement already satisfied: sortedcontainers~=2.0 in /Users/crotello/opt/anaconda3/lib/python3.9/site-packages (from cirq-core==0.14.0->cirq==0.14.0) (2.4.0)\n",
      "Requirement already satisfied: tqdm in /Users/crotello/opt/anaconda3/lib/python3.9/site-packages (from cirq-core==0.14.0->cirq==0.14.0) (4.64.1)\n",
      "Requirement already satisfied: scipy in /Users/crotello/opt/anaconda3/lib/python3.9/site-packages (from cirq-core==0.14.0->cirq==0.14.0) (1.9.1)\n",
      "Requirement already satisfied: duet~=0.2.0 in /Users/crotello/opt/anaconda3/lib/python3.9/site-packages (from cirq-core==0.14.0->cirq==0.14.0) (0.2.7)\n",
      "Requirement already satisfied: typing-extensions in /Users/crotello/opt/anaconda3/lib/python3.9/site-packages (from cirq-core==0.14.0->cirq==0.14.0) (4.3.0)\n",
      "Requirement already satisfied: protobuf>=3.13.0 in /Users/crotello/opt/anaconda3/lib/python3.9/site-packages (from cirq-google==0.14.0->cirq==0.14.0) (3.20.3)\n",
      "Requirement already satisfied: google-api-core[grpc]<2.0.0dev,>=1.14.0 in /Users/crotello/opt/anaconda3/lib/python3.9/site-packages (from cirq-google==0.14.0->cirq==0.14.0) (1.34.0)\n",
      "Requirement already satisfied: attrs~=20.3.0 in /Users/crotello/opt/anaconda3/lib/python3.9/site-packages (from cirq-rigetti==0.14.0->cirq==0.14.0) (20.3.0)\n",
      "Requirement already satisfied: sniffio~=1.2.0 in /Users/crotello/opt/anaconda3/lib/python3.9/site-packages (from cirq-rigetti==0.14.0->cirq==0.14.0) (1.2.0)\n",
      "Requirement already satisfied: iso8601~=0.1.14 in /Users/crotello/opt/anaconda3/lib/python3.9/site-packages (from cirq-rigetti==0.14.0->cirq==0.14.0) (0.1.16)\n",
      "Requirement already satisfied: rfc3986~=1.5.0 in /Users/crotello/opt/anaconda3/lib/python3.9/site-packages (from cirq-rigetti==0.14.0->cirq==0.14.0) (1.5.0)\n",
      "Requirement already satisfied: pyquil~=3.0.0 in /Users/crotello/opt/anaconda3/lib/python3.9/site-packages (from cirq-rigetti==0.14.0->cirq==0.14.0) (3.0.1)\n",
      "Requirement already satisfied: python-dateutil~=2.8.1 in /Users/crotello/opt/anaconda3/lib/python3.9/site-packages (from cirq-rigetti==0.14.0->cirq==0.14.0) (2.8.2)\n",
      "Requirement already satisfied: httpcore~=0.11.1 in /Users/crotello/opt/anaconda3/lib/python3.9/site-packages (from cirq-rigetti==0.14.0->cirq==0.14.0) (0.11.1)\n",
      "Requirement already satisfied: qcs-api-client~=0.8.0 in /Users/crotello/opt/anaconda3/lib/python3.9/site-packages (from cirq-rigetti==0.14.0->cirq==0.14.0) (0.8.0)\n",
      "Requirement already satisfied: rfc3339~=6.2 in /Users/crotello/opt/anaconda3/lib/python3.9/site-packages (from cirq-rigetti==0.14.0->cirq==0.14.0) (6.2)\n",
      "Requirement already satisfied: certifi~=2021.5.30 in /Users/crotello/opt/anaconda3/lib/python3.9/site-packages (from cirq-rigetti==0.14.0->cirq==0.14.0) (2021.5.30)\n",
      "Requirement already satisfied: pyjwt~=1.7.1 in /Users/crotello/opt/anaconda3/lib/python3.9/site-packages (from cirq-rigetti==0.14.0->cirq==0.14.0) (1.7.1)\n",
      "Requirement already satisfied: idna~=2.10 in /Users/crotello/opt/anaconda3/lib/python3.9/site-packages (from cirq-rigetti==0.14.0->cirq==0.14.0) (2.10)\n",
      "Requirement already satisfied: retrying~=1.3.3 in /Users/crotello/opt/anaconda3/lib/python3.9/site-packages (from cirq-rigetti==0.14.0->cirq==0.14.0) (1.3.4)\n",
      "Requirement already satisfied: pydantic~=1.8.2 in /Users/crotello/opt/anaconda3/lib/python3.9/site-packages (from cirq-rigetti==0.14.0->cirq==0.14.0) (1.8.2)\n",
      "Requirement already satisfied: httpx~=0.15.5 in /Users/crotello/opt/anaconda3/lib/python3.9/site-packages (from cirq-rigetti==0.14.0->cirq==0.14.0) (0.15.5)\n",
      "Requirement already satisfied: six~=1.16.0 in /Users/crotello/opt/anaconda3/lib/python3.9/site-packages (from cirq-rigetti==0.14.0->cirq==0.14.0) (1.16.0)\n",
      "Requirement already satisfied: h11~=0.9.0 in /Users/crotello/opt/anaconda3/lib/python3.9/site-packages (from cirq-rigetti==0.14.0->cirq==0.14.0) (0.9.0)\n",
      "Requirement already satisfied: toml~=0.10.2 in /Users/crotello/opt/anaconda3/lib/python3.9/site-packages (from cirq-rigetti==0.14.0->cirq==0.14.0) (0.10.2)\n",
      "Requirement already satisfied: google-auth<3.0dev,>=1.25.0 in /Users/crotello/opt/anaconda3/lib/python3.9/site-packages (from google-api-core[grpc]<2.0.0dev,>=1.14.0->cirq-google==0.14.0->cirq==0.14.0) (2.16.0)\n",
      "Requirement already satisfied: googleapis-common-protos<2.0dev,>=1.56.2 in /Users/crotello/opt/anaconda3/lib/python3.9/site-packages (from google-api-core[grpc]<2.0.0dev,>=1.14.0->cirq-google==0.14.0->cirq==0.14.0) (1.58.0)\n",
      "Requirement already satisfied: grpcio-status<2.0dev,>=1.33.2 in /Users/crotello/opt/anaconda3/lib/python3.9/site-packages (from google-api-core[grpc]<2.0.0dev,>=1.14.0->cirq-google==0.14.0->cirq==0.14.0) (1.48.2)\n",
      "Requirement already satisfied: grpcio<2.0dev,>=1.33.2 in /Users/crotello/opt/anaconda3/lib/python3.9/site-packages (from google-api-core[grpc]<2.0.0dev,>=1.14.0->cirq-google==0.14.0->cirq==0.14.0) (1.51.1)\n",
      "Requirement already satisfied: pillow>=6.2.0 in /Users/crotello/opt/anaconda3/lib/python3.9/site-packages (from matplotlib~=3.0->cirq-core==0.14.0->cirq==0.14.0) (9.2.0)\n",
      "Requirement already satisfied: cycler>=0.10 in /Users/crotello/opt/anaconda3/lib/python3.9/site-packages (from matplotlib~=3.0->cirq-core==0.14.0->cirq==0.14.0) (0.11.0)\n",
      "Requirement already satisfied: kiwisolver>=1.0.1 in /Users/crotello/opt/anaconda3/lib/python3.9/site-packages (from matplotlib~=3.0->cirq-core==0.14.0->cirq==0.14.0) (1.4.2)\n",
      "Requirement already satisfied: fonttools>=4.22.0 in /Users/crotello/opt/anaconda3/lib/python3.9/site-packages (from matplotlib~=3.0->cirq-core==0.14.0->cirq==0.14.0) (4.25.0)\n",
      "Requirement already satisfied: pyparsing>=2.2.1 in /Users/crotello/opt/anaconda3/lib/python3.9/site-packages (from matplotlib~=3.0->cirq-core==0.14.0->cirq==0.14.0) (3.0.9)\n",
      "Requirement already satisfied: packaging>=20.0 in /Users/crotello/opt/anaconda3/lib/python3.9/site-packages (from matplotlib~=3.0->cirq-core==0.14.0->cirq==0.14.0) (21.3)\n",
      "Requirement already satisfied: retry<0.10.0,>=0.9.2 in /Users/crotello/opt/anaconda3/lib/python3.9/site-packages (from pyquil~=3.0.0->cirq-rigetti==0.14.0->cirq==0.14.0) (0.9.2)\n",
      "Requirement already satisfied: rpcq<4.0.0,>=3.6.0 in /Users/crotello/opt/anaconda3/lib/python3.9/site-packages (from pyquil~=3.0.0->cirq-rigetti==0.14.0->cirq==0.14.0) (3.10.0)\n",
      "Requirement already satisfied: lark<0.12.0,>=0.11.1 in /Users/crotello/opt/anaconda3/lib/python3.9/site-packages (from pyquil~=3.0.0->cirq-rigetti==0.14.0->cirq==0.14.0) (0.11.3)\n"
     ]
    },
    {
     "name": "stdout",
     "output_type": "stream",
     "text": [
      "Requirement already satisfied: charset-normalizer<3,>=2 in /Users/crotello/opt/anaconda3/lib/python3.9/site-packages (from requests~=2.18->cirq-aqt==0.14.0->cirq==0.14.0) (2.0.4)\n",
      "Requirement already satisfied: urllib3<1.27,>=1.21.1 in /Users/crotello/opt/anaconda3/lib/python3.9/site-packages (from requests~=2.18->cirq-aqt==0.14.0->cirq==0.14.0) (1.26.11)\n",
      "Requirement already satisfied: mpmath>=0.19 in /Users/crotello/opt/anaconda3/lib/python3.9/site-packages (from sympy<1.10->cirq-core==0.14.0->cirq==0.14.0) (1.2.1)\n",
      "Requirement already satisfied: pytz>=2020.1 in /Users/crotello/opt/anaconda3/lib/python3.9/site-packages (from pandas->cirq-core==0.14.0->cirq==0.14.0) (2022.1)\n",
      "Requirement already satisfied: rsa<5,>=3.1.4 in /Users/crotello/opt/anaconda3/lib/python3.9/site-packages (from google-auth<3.0dev,>=1.25.0->google-api-core[grpc]<2.0.0dev,>=1.14.0->cirq-google==0.14.0->cirq==0.14.0) (4.9)\n",
      "Requirement already satisfied: cachetools<6.0,>=2.0.0 in /Users/crotello/opt/anaconda3/lib/python3.9/site-packages (from google-auth<3.0dev,>=1.25.0->google-api-core[grpc]<2.0.0dev,>=1.14.0->cirq-google==0.14.0->cirq==0.14.0) (5.3.0)\n",
      "Requirement already satisfied: pyasn1-modules>=0.2.1 in /Users/crotello/opt/anaconda3/lib/python3.9/site-packages (from google-auth<3.0dev,>=1.25.0->google-api-core[grpc]<2.0.0dev,>=1.14.0->cirq-google==0.14.0->cirq==0.14.0) (0.2.8)\n",
      "Requirement already satisfied: decorator>=3.4.2 in /Users/crotello/opt/anaconda3/lib/python3.9/site-packages (from retry<0.10.0,>=0.9.2->pyquil~=3.0.0->cirq-rigetti==0.14.0->cirq==0.14.0) (5.1.1)\n",
      "Requirement already satisfied: py<2.0.0,>=1.4.26 in /Users/crotello/opt/anaconda3/lib/python3.9/site-packages (from retry<0.10.0,>=0.9.2->pyquil~=3.0.0->cirq-rigetti==0.14.0->cirq==0.14.0) (1.11.0)\n",
      "Requirement already satisfied: pyzmq>=17 in /Users/crotello/opt/anaconda3/lib/python3.9/site-packages (from rpcq<4.0.0,>=3.6.0->pyquil~=3.0.0->cirq-rigetti==0.14.0->cirq==0.14.0) (23.2.0)\n",
      "Requirement already satisfied: python-rapidjson in /Users/crotello/opt/anaconda3/lib/python3.9/site-packages (from rpcq<4.0.0,>=3.6.0->pyquil~=3.0.0->cirq-rigetti==0.14.0->cirq==0.14.0) (1.9)\n",
      "Requirement already satisfied: msgpack<1.0,>=0.6 in /Users/crotello/opt/anaconda3/lib/python3.9/site-packages (from rpcq<4.0.0,>=3.6.0->pyquil~=3.0.0->cirq-rigetti==0.14.0->cirq==0.14.0) (0.6.2)\n",
      "Requirement already satisfied: ruamel.yaml in /Users/crotello/opt/anaconda3/lib/python3.9/site-packages (from rpcq<4.0.0,>=3.6.0->pyquil~=3.0.0->cirq-rigetti==0.14.0->cirq==0.14.0) (0.17.21)\n",
      "Requirement already satisfied: pyasn1<0.5.0,>=0.4.6 in /Users/crotello/opt/anaconda3/lib/python3.9/site-packages (from pyasn1-modules>=0.2.1->google-auth<3.0dev,>=1.25.0->google-api-core[grpc]<2.0.0dev,>=1.14.0->cirq-google==0.14.0->cirq==0.14.0) (0.4.8)\n",
      "Requirement already satisfied: ruamel.yaml.clib>=0.2.6 in /Users/crotello/opt/anaconda3/lib/python3.9/site-packages (from ruamel.yaml->rpcq<4.0.0,>=3.6.0->pyquil~=3.0.0->cirq-rigetti==0.14.0->cirq==0.14.0) (0.2.7)\n",
      "Installing collected packages: cirq-core\n",
      "  Attempting uninstall: cirq-core\n",
      "    Found existing installation: cirq-core 1.1.0\n",
      "    Uninstalling cirq-core-1.1.0:\n",
      "      Successfully uninstalled cirq-core-1.1.0\n",
      "\u001b[31mERROR: pip's dependency resolver does not currently take into account all the packages that are installed. This behaviour is the source of the following dependency conflicts.\n",
      "qsimcirq 0.15.0 requires cirq-core~=1.0, but you have cirq-core 0.14.0 which is incompatible.\n",
      "openfermion 1.5.1 requires cirq-core>=0.15.0, but you have cirq-core 0.14.0 which is incompatible.\n",
      "openfermion 1.5.1 requires cirq-google>=0.15.0, but you have cirq-google 0.14.0 which is incompatible.\u001b[0m\u001b[31m\n",
      "\u001b[0mSuccessfully installed cirq-core-0.14.0\n",
      "Note: you may need to restart the kernel to use updated packages.\n"
     ]
    }
   ],
   "source": [
    "pip install cirq==0.14.0"
   ]
  },
  {
   "cell_type": "code",
   "execution_count": null,
   "metadata": {
    "colab": {
     "base_uri": "https://localhost:8080/"
    },
    "id": "hwAWyuDXaWP8",
    "outputId": "612dd3fc-1946-4fcd-879d-b69447b58f26"
   },
   "outputs": [],
   "source": [
    "pip install qsimcirq"
   ]
  },
  {
   "cell_type": "code",
   "execution_count": null,
   "metadata": {
    "colab": {
     "base_uri": "https://localhost:8080/"
    },
    "id": "vs3pc1_aFve0",
    "outputId": "37191d34-a01e-44ef-be9b-eb82e62182c6"
   },
   "outputs": [],
   "source": [
    "pip install matplotlib"
   ]
  },
  {
   "cell_type": "code",
   "execution_count": 8,
   "metadata": {
    "id": "L1XzKvY_aa99"
   },
   "outputs": [
    {
     "name": "stdout",
     "output_type": "stream",
     "text": [
      "The autoreload extension is already loaded. To reload it, use:\n",
      "  %reload_ext autoreload\n"
     ]
    }
   ],
   "source": [
    "%load_ext autoreload\n",
    "%autoreload 2\n",
    "\n",
    "import cirq\n",
    "import qsimcirq\n",
    "import circuits_warehouse as cw\n",
    "import json\n",
    "import os\n",
    "import matplotlib.pyplot as plt\n",
    "import threading"
   ]
  },
  {
   "cell_type": "code",
   "execution_count": null,
   "metadata": {
    "colab": {
     "base_uri": "https://localhost:8080/"
    },
    "id": "q3i3JiDCGlMs",
    "outputId": "61dbf49c-268d-47b8-9dc1-b1c0f51c5f18"
   },
   "outputs": [],
   "source": [
    "### NOTE only use this if running in google colab\n",
    "from google.colab import drive\n",
    "drive.mount('/content/drive')\n",
    "\n",
    "### MAKE THIS MANUALLY\n",
    "PS_DIR = '/content/drive/MyDrive/googlecolab-ps-data'\n",
    "if not os.path.exists(PS_DIR):\n",
    "    os.makedirs(PS_DIR)"
   ]
  },
  {
   "cell_type": "code",
   "execution_count": 3,
   "metadata": {
    "id": "4R4_ZmzbFve1"
   },
   "outputs": [],
   "source": [
    "### Use this if you do NOT want to connect to Google drive\n",
    "PS_DIR = 'ps-data' \n",
    "if not os.path.exists(PS_DIR):\n",
    "    os.makedirs(PS_DIR)"
   ]
  },
  {
   "cell_type": "markdown",
   "metadata": {
    "id": "zXpma_RfiPGT"
   },
   "source": [
    "## Heisenberg XXX"
   ]
  },
  {
   "cell_type": "code",
   "execution_count": null,
   "metadata": {
    "id": "JKXHdAPBeRzk"
   },
   "outputs": [],
   "source": [
    "def simulate_heisenbergxxx(err_p):\n",
    "    T = 30\n",
    "    N = 15\n",
    "    nmeas = 30_000\n",
    "    qubits = cirq.LineQubit.range(N)\n",
    "\n",
    "    init_bstr = '10'*7 + '1'\n",
    "    print('Starting at', init_bstr, 'err_p', err_p)\n",
    "    ideal_timestep = cw.circuit_Heisenberg1D(qubits, .1)\n",
    "    noisy_timestep = cw.circuit_Heisenberg_noise(qubits, error_rate=err_p, exponent=.1)\n",
    "\n",
    "    # Ideal simulation\n",
    "    ideal_timeseries_hist = []\n",
    "    for t in range(T):\n",
    "        result = qsimcirq.QSimSimulator().run(\n",
    "        #result = cirq.Simulator().run(\n",
    "                            qsimcirq.QSimCircuit([[cirq.X(qubits[i]) for i,v in enumerate(init_bstr) if v=='1'], \n",
    "                            #cirq.Circuit([[cirq.X(qubits[i]) for i,v in enumerate(init_bstr) if v=='1'], \n",
    "                                          cirq.I.on_each(qubits),\n",
    "                                         [ideal_timestep for _ in range(t)],\n",
    "                                         cirq.measure(*qubits, key='z')\n",
    "                                                 ]),\n",
    "                            repetitions=nmeas\n",
    "                       ).histogram(key='z')\n",
    "        ideal_timeseries_hist.append((t,result))\n",
    "\n",
    "    # save ideal\n",
    "    with open('{}/heis_ideal_N={}_p={}_shots={}.json'.format(PS_DIR,N,err_p,nmeas),'w') as f:\n",
    "        f.write(json.dumps(ideal_timeseries_hist, indent=2))\n",
    "    print('saved ideal simulation, running noise simulation')\n",
    "\n",
    "    # Noisy simulation\n",
    "    noisy_timeseries_hist = []\n",
    "    for t in range(T):\n",
    "        print('t:',t,'err_p:',err_p)\n",
    "        result = qsimcirq.QSimSimulator().run(\n",
    "        #result = cirq.Simulator().run(\n",
    "                            #cirq.Circuit([[cirq.X(qubits[i]) for i,v in enumerate(init_bstr) if v=='1'], \n",
    "                            qsimcirq.QSimCircuit([[cirq.X(qubits[i]) for i,v in enumerate(init_bstr) if v=='1'], \n",
    "                                          cirq.I.on_each(qubits),\n",
    "                                         [noisy_timestep for _ in range(t)],   \n",
    "                                         #[ideal_timestep for _ in range(t)],   \n",
    "                                         cirq.measure(*qubits, key='z')                                      \n",
    "                                                 ]),#.with_noise([cirq.bit_flip(p=0.01), cirq.phase_flip(p=0.01)]),\n",
    "                            repetitions=nmeas\n",
    "                        ).histogram(key='z')\n",
    "        noisy_timeseries_hist.append((t,result))        \n",
    "\n",
    "    # save noisy\n",
    "    with open('{}/heis_noise_N={}_p={}_shots={}.json'.format(PS_DIR,N,err_p,nmeas),'w') as f:\n",
    "        f.write(json.dumps(noisy_timeseries_hist, indent=2))"
   ]
  },
  {
   "cell_type": "code",
   "execution_count": null,
   "metadata": {
    "colab": {
     "base_uri": "https://localhost:8080/"
    },
    "id": "eucZ9Ua2H1u0",
    "outputId": "b1da3115-86d4-4f0f-bd3d-5d7cbda558dc"
   },
   "outputs": [],
   "source": [
    "simulate_heisenbergxxx(0.005)"
   ]
  },
  {
   "cell_type": "code",
   "execution_count": null,
   "metadata": {
    "colab": {
     "base_uri": "https://localhost:8080/"
    },
    "id": "tKwHDnxUH6Bp",
    "outputId": "a9e85f7a-d38f-449d-b66a-fe6a9f78435e"
   },
   "outputs": [],
   "source": [
    "simulate_heisenbergxxx(0.01)"
   ]
  },
  {
   "cell_type": "code",
   "execution_count": null,
   "metadata": {
    "colab": {
     "base_uri": "https://localhost:8080/"
    },
    "id": "YsEkogLp7r_q",
    "outputId": "c9c4308b-19da-4e2c-bdc1-341744eaa2be"
   },
   "outputs": [],
   "source": [
    "simulate_heisenbergxxx(0.02)\n",
    "#err_p_list = [0.01, 0.02]\n",
    "\n",
    "#threads = [threading.Thread(target=simulate_heisenbergxxx, args=(err_p,)) for err_p in err_p_list]\n",
    "\n",
    "#for t in threads:\n",
    "#  t.start()\n",
    "\n",
    "#for t in threads:\n",
    "#  t.join()"
   ]
  },
  {
   "cell_type": "code",
   "execution_count": null,
   "metadata": {
    "colab": {
     "base_uri": "https://localhost:8080/"
    },
    "id": "-ja1G5lqIM01",
    "outputId": "aa99f236-8f66-4aff-c01e-b87c1d2ed0c2"
   },
   "outputs": [],
   "source": [
    "simulate_heisenbergxxx(0.05)"
   ]
  },
  {
   "cell_type": "markdown",
   "metadata": {
    "id": "KS8BwjpVinIx"
   },
   "source": [
    "## T6 QCA"
   ]
  },
  {
   "cell_type": "code",
   "execution_count": null,
   "metadata": {
    "id": "PrzuOeXSfWw1"
   },
   "outputs": [],
   "source": [
    "def simulate_t6qca(err_p):\n",
    "    T = 30\n",
    "    N = 15\n",
    "    nmeas = 30_000\n",
    "    qubits = cirq.LineQubit.range(N)\n",
    "    #err_p = .05\n",
    "\n",
    "    init_bstr = '000000010000000'\n",
    "    print('Starting at', init_bstr)\n",
    "    ideal_timestep = cw.circuit_T6QCA(qubits)\n",
    "    noisy_timestep = cw.circuit_T6QCA_noise(qubits, error_rate=err_p)\n",
    "\n",
    "    # Ideal simulation\n",
    "    ideal_timeseries_hist = []\n",
    "    for t in range(T):\n",
    "        result = qsimcirq.QSimSimulator().run(\n",
    "                            cirq.Circuit([cirq.X(qubits[i]) for i,v in enumerate(init_bstr) if v=='1'], \n",
    "                                          cirq.I.on_each(qubits),\n",
    "                                        [ideal_timestep for _ in range(t)],\n",
    "                                        cirq.measure(*qubits, key='z')\n",
    "                                        ),\n",
    "                            repetitions=nmeas\n",
    "                      ).histogram(key='z')\n",
    "        ideal_timeseries_hist.append((t,result))\n",
    "\n",
    "    # save ideal\n",
    "    with open('{}/t6qca_ideal_N={}_p={}_shots={}.json'.format(PS_DIR, N,err_p,nmeas),'w') as f:\n",
    "        f.write(json.dumps(ideal_timeseries_hist, indent=2))\n",
    "    print('saved ideal simulation, running noise simulation')\n",
    "\n",
    "    # Noisy simulation\n",
    "    noisy_timeseries_hist = []\n",
    "    for t in range(T):\n",
    "        print('t:',t)\n",
    "        result = qsimcirq.QSimSimulator().run(\n",
    "                            cirq.Circuit([cirq.X(qubits[i]) for i,v in enumerate(init_bstr) if v=='1'], \n",
    "                                          cirq.I.on_each(qubits),\n",
    "                                        [noisy_timestep for _ in range(t)],   \n",
    "                                        #[ideal_timestep for _ in range(t)],   \n",
    "                                        cirq.measure(*qubits, key='z')                                      \n",
    "                                        ),#.with_noise([cirq.bit_flip(p=0.01), cirq.phase_flip(p=0.01)]),\n",
    "                            repetitions=nmeas\n",
    "                        ).histogram(key='z')\n",
    "        noisy_timeseries_hist.append((t,result))        \n",
    "\n",
    "    # save noisy\n",
    "    with open('{}/t6qca_noise_N={}_p={}_shots={}.json'.format(PS_DIR,N,err_p,nmeas),'w') as f:\n",
    "        f.write(json.dumps(noisy_timeseries_hist, indent=2))"
   ]
  },
  {
   "cell_type": "code",
   "execution_count": null,
   "metadata": {
    "colab": {
     "base_uri": "https://localhost:8080/"
    },
    "id": "uo5DmHWXIrka",
    "outputId": "fa2933c6-b564-4d64-a938-fc69dafb3154"
   },
   "outputs": [],
   "source": [
    "simulate_t6qca(0.005)"
   ]
  },
  {
   "cell_type": "code",
   "execution_count": null,
   "metadata": {
    "colab": {
     "base_uri": "https://localhost:8080/"
    },
    "id": "3z692QF2Ir-Y",
    "outputId": "24fd0ead-d722-43f5-9d0d-bdd5a900b4d8"
   },
   "outputs": [],
   "source": [
    "simulate_t6qca(0.01)"
   ]
  },
  {
   "cell_type": "code",
   "execution_count": null,
   "metadata": {
    "colab": {
     "base_uri": "https://localhost:8080/"
    },
    "id": "NpYAKah_IscT",
    "outputId": "9877f180-c205-4cc2-c20f-4ebefe4aa522"
   },
   "outputs": [],
   "source": [
    "simulate_t6qca(0.02)"
   ]
  },
  {
   "cell_type": "code",
   "execution_count": null,
   "metadata": {
    "colab": {
     "base_uri": "https://localhost:8080/"
    },
    "id": "oBJ2NB7pIszr",
    "outputId": "a328cfac-ebc5-4f5c-9753-69aa59d5aa81"
   },
   "outputs": [],
   "source": [
    "simulate_t6qca(0.05)"
   ]
  },
  {
   "cell_type": "markdown",
   "metadata": {
    "id": "BEIGYq5ximma"
   },
   "source": [
    "### F4 QCA"
   ]
  },
  {
   "cell_type": "code",
   "execution_count": 13,
   "metadata": {
    "id": "Dzkf6Ul7Cvzt"
   },
   "outputs": [],
   "source": [
    "def simulate_f4qca(err_p):\n",
    "    T = 30\n",
    "    N = 15\n",
    "    nmeas = 10\n",
    "    qubits = cirq.LineQubit.range(N)\n",
    "    #err_p = .05\n",
    "\n",
    "    init_bstr = '000000101000000'\n",
    "    print('Starting at', init_bstr)\n",
    "\n",
    "    # Ideal simulation\n",
    "    ideal_timeseries_hist = []\n",
    "    for t in range(T):\n",
    "        #result = qsimcirq.QSimSimulator().run(\n",
    "        result = cirq.Simulator().run(\n",
    "                            #qsimcirq.QSimCircuit([[cirq.X(qubits[i]) for i,v in enumerate(init_bstr) if v=='1'],\n",
    "                            cirq.Circuit([[cirq.X(qubits[i]) for i,v in enumerate(init_bstr) if v=='1'], \n",
    "                                          cirq.I.on_each(qubits),\n",
    "                                        [cirq.align_left(cw.circuit_F4QCA(qubits, (ti%2)==0) for ti in range(t))],\n",
    "                                        cirq.measure(*qubits, key='z')\n",
    "                            ]),\n",
    "                            repetitions=nmeas\n",
    "                      ).histogram(key='z')\n",
    "        ideal_timeseries_hist.append((t,result))\n",
    "\n",
    "    # save ideal\n",
    "    with open('{}/f4qca_ideal_N={}_p={}_shots={}.json'.format(PS_DIR,N,err_p,nmeas),'w') as f:\n",
    "        f.write(json.dumps(ideal_timeseries_hist, indent=2))\n",
    "    print('saved ideal simulation, running noise simulation')\n",
    "\n",
    "    # Noisy simulation\n",
    "    noisy_timeseries_hist = []\n",
    "    for t in range(T):\n",
    "        print('t:',t)\n",
    "        #result = qsimcirq.QSimSimulator().run(\n",
    "        result = cirq.Simulator().run(\n",
    "                            #qsimcirq.QSimCircuit([[cirq.X(qubits[i]) for i,v in enumerate(init_bstr) if v=='1'],\n",
    "                            cirq.Circuit([[cirq.X(qubits[i]) for i,v in enumerate(init_bstr) if v=='1'], \n",
    "                                          cirq.I.on_each(qubits),\n",
    "                                        [cirq.align_left(cw.circuit_F4QCA_noise(qubits, error_rate=err_p, even=(ti%2)==0) for ti in range(t))],   \n",
    "                                        cirq.measure(*qubits, key='z')                                      \n",
    "                                        ]),\n",
    "                            repetitions=nmeas\n",
    "                        ).histogram(key='z')\n",
    "        noisy_timeseries_hist.append((t,result))        \n",
    "\n",
    "    # save noisy\n",
    "    with open('{}/f4qca_noise_N={}_p={}_shots={}.json'.format(PS_DIR,N,err_p,nmeas),'w') as f:\n",
    "        f.write(json.dumps(noisy_timeseries_hist, indent=2))"
   ]
  },
  {
   "cell_type": "code",
   "execution_count": 14,
   "metadata": {
    "colab": {
     "base_uri": "https://localhost:8080/"
    },
    "id": "HaaEQRTrJHpx",
    "outputId": "9dcbd61d-1262-4636-9c05-4cafc7907638",
    "scrolled": true
   },
   "outputs": [
    {
     "name": "stdout",
     "output_type": "stream",
     "text": [
      "Starting at 000000101000000\n",
      "saved ideal simulation, running noise simulation\n",
      "t: 0\n",
      "t: 1\n",
      "t: 2\n",
      "t: 3\n",
      "t: 4\n",
      "t: 5\n",
      "t: 6\n",
      "t: 7\n",
      "t: 8\n",
      "t: 9\n",
      "t: 10\n",
      "t: 11\n",
      "t: 12\n",
      "t: 13\n",
      "t: 14\n",
      "t: 15\n",
      "t: 16\n",
      "t: 17\n",
      "t: 18\n"
     ]
    },
    {
     "ename": "KeyboardInterrupt",
     "evalue": "",
     "output_type": "error",
     "traceback": [
      "\u001b[0;31m---------------------------------------------------------------------------\u001b[0m",
      "\u001b[0;31mKeyboardInterrupt\u001b[0m                         Traceback (most recent call last)",
      "\u001b[0;32m/var/folders/rv/f6_4p0cj2hd35c2h01w442bd3drs8k/T/ipykernel_85520/446798618.py\u001b[0m in \u001b[0;36m<module>\u001b[0;34m\u001b[0m\n\u001b[0;32m----> 1\u001b[0;31m \u001b[0msimulate_f4qca\u001b[0m\u001b[0;34m(\u001b[0m\u001b[0;36m0.005\u001b[0m\u001b[0;34m)\u001b[0m\u001b[0;34m\u001b[0m\u001b[0;34m\u001b[0m\u001b[0m\n\u001b[0m",
      "\u001b[0;32m/var/folders/rv/f6_4p0cj2hd35c2h01w442bd3drs8k/T/ipykernel_85520/3547513866.py\u001b[0m in \u001b[0;36msimulate_f4qca\u001b[0;34m(err_p)\u001b[0m\n\u001b[1;32m     34\u001b[0m         \u001b[0mprint\u001b[0m\u001b[0;34m(\u001b[0m\u001b[0;34m't:'\u001b[0m\u001b[0;34m,\u001b[0m\u001b[0mt\u001b[0m\u001b[0;34m)\u001b[0m\u001b[0;34m\u001b[0m\u001b[0;34m\u001b[0m\u001b[0m\n\u001b[1;32m     35\u001b[0m         \u001b[0;31m#result = qsimcirq.QSimSimulator().run(\u001b[0m\u001b[0;34m\u001b[0m\u001b[0;34m\u001b[0m\u001b[0m\n\u001b[0;32m---> 36\u001b[0;31m         result = cirq.Simulator().run(\n\u001b[0m\u001b[1;32m     37\u001b[0m                             \u001b[0;31m#qsimcirq.QSimCircuit([[cirq.X(qubits[i]) for i,v in enumerate(init_bstr) if v=='1'],\u001b[0m\u001b[0;34m\u001b[0m\u001b[0;34m\u001b[0m\u001b[0m\n\u001b[1;32m     38\u001b[0m                             cirq.Circuit([[cirq.X(qubits[i]) for i,v in enumerate(init_bstr) if v=='1'], \n",
      "\u001b[0;32m~/opt/anaconda3/lib/python3.9/site-packages/cirq/work/sampler.py\u001b[0m in \u001b[0;36mrun\u001b[0;34m(self, program, param_resolver, repetitions)\u001b[0m\n\u001b[1;32m     51\u001b[0m             \u001b[0mResult\u001b[0m \u001b[0;32mfor\u001b[0m \u001b[0ma\u001b[0m \u001b[0mrun\u001b[0m\u001b[0;34m.\u001b[0m\u001b[0;34m\u001b[0m\u001b[0;34m\u001b[0m\u001b[0m\n\u001b[1;32m     52\u001b[0m         \"\"\"\n\u001b[0;32m---> 53\u001b[0;31m         \u001b[0;32mreturn\u001b[0m \u001b[0mself\u001b[0m\u001b[0;34m.\u001b[0m\u001b[0mrun_sweep\u001b[0m\u001b[0;34m(\u001b[0m\u001b[0mprogram\u001b[0m\u001b[0;34m,\u001b[0m \u001b[0mparam_resolver\u001b[0m\u001b[0;34m,\u001b[0m \u001b[0mrepetitions\u001b[0m\u001b[0;34m)\u001b[0m\u001b[0;34m[\u001b[0m\u001b[0;36m0\u001b[0m\u001b[0;34m]\u001b[0m\u001b[0;34m\u001b[0m\u001b[0;34m\u001b[0m\u001b[0m\n\u001b[0m\u001b[1;32m     54\u001b[0m \u001b[0;34m\u001b[0m\u001b[0m\n\u001b[1;32m     55\u001b[0m     async def run_async(\n",
      "\u001b[0;32m~/opt/anaconda3/lib/python3.9/site-packages/cirq/sim/simulator.py\u001b[0m in \u001b[0;36mrun_sweep\u001b[0;34m(self, program, params, repetitions)\u001b[0m\n\u001b[1;32m     75\u001b[0m         \u001b[0mrepetitions\u001b[0m\u001b[0;34m:\u001b[0m \u001b[0mint\u001b[0m \u001b[0;34m=\u001b[0m \u001b[0;36m1\u001b[0m\u001b[0;34m,\u001b[0m\u001b[0;34m\u001b[0m\u001b[0;34m\u001b[0m\u001b[0m\n\u001b[1;32m     76\u001b[0m     ) -> Sequence['cirq.Result']:\n\u001b[0;32m---> 77\u001b[0;31m         \u001b[0;32mreturn\u001b[0m \u001b[0mlist\u001b[0m\u001b[0;34m(\u001b[0m\u001b[0mself\u001b[0m\u001b[0;34m.\u001b[0m\u001b[0mrun_sweep_iter\u001b[0m\u001b[0;34m(\u001b[0m\u001b[0mprogram\u001b[0m\u001b[0;34m,\u001b[0m \u001b[0mparams\u001b[0m\u001b[0;34m,\u001b[0m \u001b[0mrepetitions\u001b[0m\u001b[0;34m)\u001b[0m\u001b[0;34m)\u001b[0m\u001b[0;34m\u001b[0m\u001b[0;34m\u001b[0m\u001b[0m\n\u001b[0m\u001b[1;32m     78\u001b[0m \u001b[0;34m\u001b[0m\u001b[0m\n\u001b[1;32m     79\u001b[0m     def run_sweep_iter(\n",
      "\u001b[0;32m~/opt/anaconda3/lib/python3.9/site-packages/cirq/sim/simulator.py\u001b[0m in \u001b[0;36mrun_sweep_iter\u001b[0;34m(self, program, params, repetitions)\u001b[0m\n\u001b[1;32m    109\u001b[0m                     \u001b[0mrecords\u001b[0m\u001b[0;34m[\u001b[0m\u001b[0mprotocols\u001b[0m\u001b[0;34m.\u001b[0m\u001b[0mmeasurement_key_name\u001b[0m\u001b[0;34m(\u001b[0m\u001b[0mop\u001b[0m\u001b[0;34m)\u001b[0m\u001b[0;34m]\u001b[0m \u001b[0;34m=\u001b[0m \u001b[0mnp\u001b[0m\u001b[0;34m.\u001b[0m\u001b[0mempty\u001b[0m\u001b[0;34m(\u001b[0m\u001b[0;34m[\u001b[0m\u001b[0;36m0\u001b[0m\u001b[0;34m,\u001b[0m \u001b[0;36m1\u001b[0m\u001b[0;34m,\u001b[0m \u001b[0;36m1\u001b[0m\u001b[0;34m]\u001b[0m\u001b[0;34m)\u001b[0m\u001b[0;34m\u001b[0m\u001b[0;34m\u001b[0m\u001b[0m\n\u001b[1;32m    110\u001b[0m             \u001b[0;32melse\u001b[0m\u001b[0;34m:\u001b[0m\u001b[0;34m\u001b[0m\u001b[0;34m\u001b[0m\u001b[0m\n\u001b[0;32m--> 111\u001b[0;31m                 records = self._run(\n\u001b[0m\u001b[1;32m    112\u001b[0m                     \u001b[0mcircuit\u001b[0m\u001b[0;34m=\u001b[0m\u001b[0mprogram\u001b[0m\u001b[0;34m,\u001b[0m \u001b[0mparam_resolver\u001b[0m\u001b[0;34m=\u001b[0m\u001b[0mparam_resolver\u001b[0m\u001b[0;34m,\u001b[0m \u001b[0mrepetitions\u001b[0m\u001b[0;34m=\u001b[0m\u001b[0mrepetitions\u001b[0m\u001b[0;34m\u001b[0m\u001b[0;34m\u001b[0m\u001b[0m\n\u001b[1;32m    113\u001b[0m                 )\n",
      "\u001b[0;32m~/opt/anaconda3/lib/python3.9/site-packages/cirq/sim/simulator_base.py\u001b[0m in \u001b[0;36m_run\u001b[0;34m(self, circuit, param_resolver, repetitions)\u001b[0m\n\u001b[1;32m    297\u001b[0m                     \u001b[0msim_state\u001b[0m\u001b[0;34m=\u001b[0m\u001b[0mact_on_args\u001b[0m\u001b[0;34m.\u001b[0m\u001b[0mcopy\u001b[0m\u001b[0;34m(\u001b[0m\u001b[0;34m)\u001b[0m \u001b[0;32mif\u001b[0m \u001b[0mi\u001b[0m \u001b[0;34m<\u001b[0m \u001b[0mrepetitions\u001b[0m \u001b[0;34m-\u001b[0m \u001b[0;36m1\u001b[0m \u001b[0;32melse\u001b[0m \u001b[0mact_on_args\u001b[0m\u001b[0;34m,\u001b[0m\u001b[0;34m\u001b[0m\u001b[0;34m\u001b[0m\u001b[0m\n\u001b[1;32m    298\u001b[0m                 )\n\u001b[0;32m--> 299\u001b[0;31m             \u001b[0;32mfor\u001b[0m \u001b[0mstep_result\u001b[0m \u001b[0;32min\u001b[0m \u001b[0mall_step_results\u001b[0m\u001b[0;34m:\u001b[0m\u001b[0;34m\u001b[0m\u001b[0;34m\u001b[0m\u001b[0m\n\u001b[0m\u001b[1;32m    300\u001b[0m                 \u001b[0;32mpass\u001b[0m\u001b[0;34m\u001b[0m\u001b[0;34m\u001b[0m\u001b[0m\n\u001b[1;32m    301\u001b[0m             \u001b[0;32mfor\u001b[0m \u001b[0mk\u001b[0m\u001b[0;34m,\u001b[0m \u001b[0mr\u001b[0m \u001b[0;32min\u001b[0m \u001b[0mstep_result\u001b[0m\u001b[0;34m.\u001b[0m\u001b[0m_classical_data\u001b[0m\u001b[0;34m.\u001b[0m\u001b[0mrecords\u001b[0m\u001b[0;34m.\u001b[0m\u001b[0mitems\u001b[0m\u001b[0;34m(\u001b[0m\u001b[0;34m)\u001b[0m\u001b[0;34m:\u001b[0m\u001b[0;34m\u001b[0m\u001b[0;34m\u001b[0m\u001b[0m\n",
      "\u001b[0;32m~/opt/anaconda3/lib/python3.9/site-packages/cirq/sim/simulator_base.py\u001b[0m in \u001b[0;36m_core_iterator\u001b[0;34m(self, circuit, sim_state, all_measurements_are_terminal)\u001b[0m\n\u001b[1;32m    226\u001b[0m \u001b[0;34m\u001b[0m\u001b[0m\n\u001b[1;32m    227\u001b[0m                     \u001b[0;31m# Simulate the operation\u001b[0m\u001b[0;34m\u001b[0m\u001b[0;34m\u001b[0m\u001b[0m\n\u001b[0;32m--> 228\u001b[0;31m                     \u001b[0mprotocols\u001b[0m\u001b[0;34m.\u001b[0m\u001b[0mact_on\u001b[0m\u001b[0;34m(\u001b[0m\u001b[0mop\u001b[0m\u001b[0;34m,\u001b[0m \u001b[0msim_state\u001b[0m\u001b[0;34m)\u001b[0m\u001b[0;34m\u001b[0m\u001b[0;34m\u001b[0m\u001b[0m\n\u001b[0m\u001b[1;32m    229\u001b[0m                 \u001b[0;32mexcept\u001b[0m \u001b[0mTypeError\u001b[0m\u001b[0;34m:\u001b[0m\u001b[0;34m\u001b[0m\u001b[0;34m\u001b[0m\u001b[0m\n\u001b[1;32m    230\u001b[0m                     \u001b[0;32mraise\u001b[0m \u001b[0mTypeError\u001b[0m\u001b[0;34m(\u001b[0m\u001b[0;34mf\"{self.__class__.__name__} doesn't support {op!r}\"\u001b[0m\u001b[0;34m)\u001b[0m\u001b[0;34m\u001b[0m\u001b[0;34m\u001b[0m\u001b[0m\n",
      "\u001b[0;32m~/opt/anaconda3/lib/python3.9/site-packages/cirq/protocols/act_on_protocol.py\u001b[0m in \u001b[0;36mact_on\u001b[0;34m(action, args, qubits, allow_decompose)\u001b[0m\n\u001b[1;32m    152\u001b[0m     \u001b[0;32mif\u001b[0m \u001b[0marg_fallback\u001b[0m \u001b[0;32mis\u001b[0m \u001b[0;32mnot\u001b[0m \u001b[0;32mNone\u001b[0m\u001b[0;34m:\u001b[0m\u001b[0;34m\u001b[0m\u001b[0;34m\u001b[0m\u001b[0m\n\u001b[1;32m    153\u001b[0m         \u001b[0mqubits\u001b[0m \u001b[0;34m=\u001b[0m \u001b[0maction\u001b[0m\u001b[0;34m.\u001b[0m\u001b[0mqubits\u001b[0m \u001b[0;32mif\u001b[0m \u001b[0misinstance\u001b[0m\u001b[0;34m(\u001b[0m\u001b[0maction\u001b[0m\u001b[0;34m,\u001b[0m \u001b[0mops\u001b[0m\u001b[0;34m.\u001b[0m\u001b[0mOperation\u001b[0m\u001b[0;34m)\u001b[0m \u001b[0;32melse\u001b[0m \u001b[0mqubits\u001b[0m\u001b[0;34m\u001b[0m\u001b[0;34m\u001b[0m\u001b[0m\n\u001b[0;32m--> 154\u001b[0;31m         \u001b[0mresult\u001b[0m \u001b[0;34m=\u001b[0m \u001b[0marg_fallback\u001b[0m\u001b[0;34m(\u001b[0m\u001b[0maction\u001b[0m\u001b[0;34m,\u001b[0m \u001b[0mqubits\u001b[0m\u001b[0;34m=\u001b[0m\u001b[0mqubits\u001b[0m\u001b[0;34m,\u001b[0m \u001b[0mallow_decompose\u001b[0m\u001b[0;34m=\u001b[0m\u001b[0mallow_decompose\u001b[0m\u001b[0;34m)\u001b[0m\u001b[0;34m\u001b[0m\u001b[0;34m\u001b[0m\u001b[0m\n\u001b[0m\u001b[1;32m    155\u001b[0m         \u001b[0;32mif\u001b[0m \u001b[0mresult\u001b[0m \u001b[0;32mis\u001b[0m \u001b[0;32mTrue\u001b[0m\u001b[0;34m:\u001b[0m\u001b[0;34m\u001b[0m\u001b[0;34m\u001b[0m\u001b[0m\n\u001b[1;32m    156\u001b[0m             \u001b[0;32mreturn\u001b[0m\u001b[0;34m\u001b[0m\u001b[0;34m\u001b[0m\u001b[0m\n",
      "\u001b[0;32m~/opt/anaconda3/lib/python3.9/site-packages/cirq/sim/act_on_args_container.py\u001b[0m in \u001b[0;36m_act_on_fallback_\u001b[0;34m(self, action, qubits, allow_decompose)\u001b[0m\n\u001b[1;32m    157\u001b[0m         \u001b[0;31m# Act on the args with the operation\u001b[0m\u001b[0;34m\u001b[0m\u001b[0;34m\u001b[0m\u001b[0m\n\u001b[1;32m    158\u001b[0m         \u001b[0mact_on_qubits\u001b[0m \u001b[0;34m=\u001b[0m \u001b[0mqubits\u001b[0m \u001b[0;32mif\u001b[0m \u001b[0misinstance\u001b[0m\u001b[0;34m(\u001b[0m\u001b[0maction\u001b[0m\u001b[0;34m,\u001b[0m \u001b[0mops\u001b[0m\u001b[0;34m.\u001b[0m\u001b[0mGate\u001b[0m\u001b[0;34m)\u001b[0m \u001b[0;32melse\u001b[0m \u001b[0;32mNone\u001b[0m\u001b[0;34m\u001b[0m\u001b[0;34m\u001b[0m\u001b[0m\n\u001b[0;32m--> 159\u001b[0;31m         \u001b[0mprotocols\u001b[0m\u001b[0;34m.\u001b[0m\u001b[0mact_on\u001b[0m\u001b[0;34m(\u001b[0m\u001b[0maction\u001b[0m\u001b[0;34m,\u001b[0m \u001b[0mop_args\u001b[0m\u001b[0;34m,\u001b[0m \u001b[0mact_on_qubits\u001b[0m\u001b[0;34m,\u001b[0m \u001b[0mallow_decompose\u001b[0m\u001b[0;34m=\u001b[0m\u001b[0mallow_decompose\u001b[0m\u001b[0;34m)\u001b[0m\u001b[0;34m\u001b[0m\u001b[0;34m\u001b[0m\u001b[0m\n\u001b[0m\u001b[1;32m    160\u001b[0m \u001b[0;34m\u001b[0m\u001b[0m\n\u001b[1;32m    161\u001b[0m         \u001b[0;31m# Decouple any measurements or resets\u001b[0m\u001b[0;34m\u001b[0m\u001b[0;34m\u001b[0m\u001b[0m\n",
      "\u001b[0;32m~/opt/anaconda3/lib/python3.9/site-packages/cirq/protocols/act_on_protocol.py\u001b[0m in \u001b[0;36mact_on\u001b[0;34m(action, args, qubits, allow_decompose)\u001b[0m\n\u001b[1;32m    152\u001b[0m     \u001b[0;32mif\u001b[0m \u001b[0marg_fallback\u001b[0m \u001b[0;32mis\u001b[0m \u001b[0;32mnot\u001b[0m \u001b[0;32mNone\u001b[0m\u001b[0;34m:\u001b[0m\u001b[0;34m\u001b[0m\u001b[0;34m\u001b[0m\u001b[0m\n\u001b[1;32m    153\u001b[0m         \u001b[0mqubits\u001b[0m \u001b[0;34m=\u001b[0m \u001b[0maction\u001b[0m\u001b[0;34m.\u001b[0m\u001b[0mqubits\u001b[0m \u001b[0;32mif\u001b[0m \u001b[0misinstance\u001b[0m\u001b[0;34m(\u001b[0m\u001b[0maction\u001b[0m\u001b[0;34m,\u001b[0m \u001b[0mops\u001b[0m\u001b[0;34m.\u001b[0m\u001b[0mOperation\u001b[0m\u001b[0;34m)\u001b[0m \u001b[0;32melse\u001b[0m \u001b[0mqubits\u001b[0m\u001b[0;34m\u001b[0m\u001b[0;34m\u001b[0m\u001b[0m\n\u001b[0;32m--> 154\u001b[0;31m         \u001b[0mresult\u001b[0m \u001b[0;34m=\u001b[0m \u001b[0marg_fallback\u001b[0m\u001b[0;34m(\u001b[0m\u001b[0maction\u001b[0m\u001b[0;34m,\u001b[0m \u001b[0mqubits\u001b[0m\u001b[0;34m=\u001b[0m\u001b[0mqubits\u001b[0m\u001b[0;34m,\u001b[0m \u001b[0mallow_decompose\u001b[0m\u001b[0;34m=\u001b[0m\u001b[0mallow_decompose\u001b[0m\u001b[0;34m)\u001b[0m\u001b[0;34m\u001b[0m\u001b[0;34m\u001b[0m\u001b[0m\n\u001b[0m\u001b[1;32m    155\u001b[0m         \u001b[0;32mif\u001b[0m \u001b[0mresult\u001b[0m \u001b[0;32mis\u001b[0m \u001b[0;32mTrue\u001b[0m\u001b[0;34m:\u001b[0m\u001b[0;34m\u001b[0m\u001b[0;34m\u001b[0m\u001b[0m\n\u001b[1;32m    156\u001b[0m             \u001b[0;32mreturn\u001b[0m\u001b[0;34m\u001b[0m\u001b[0;34m\u001b[0m\u001b[0m\n",
      "\u001b[0;32m~/opt/anaconda3/lib/python3.9/site-packages/cirq/sim/act_on_state_vector_args.py\u001b[0m in \u001b[0;36m_act_on_fallback_\u001b[0;34m(self, action, qubits, allow_decompose)\u001b[0m\n\u001b[1;32m    485\u001b[0m         \u001b[0;31m# Try each strategy, stopping if one works.\u001b[0m\u001b[0;34m\u001b[0m\u001b[0;34m\u001b[0m\u001b[0m\n\u001b[1;32m    486\u001b[0m         \u001b[0;32mfor\u001b[0m \u001b[0mstrat\u001b[0m \u001b[0;32min\u001b[0m \u001b[0mstrats\u001b[0m\u001b[0;34m:\u001b[0m\u001b[0;34m\u001b[0m\u001b[0;34m\u001b[0m\u001b[0m\n\u001b[0;32m--> 487\u001b[0;31m             \u001b[0mresult\u001b[0m \u001b[0;34m=\u001b[0m \u001b[0mstrat\u001b[0m\u001b[0;34m(\u001b[0m\u001b[0maction\u001b[0m\u001b[0;34m,\u001b[0m \u001b[0mself\u001b[0m\u001b[0;34m,\u001b[0m \u001b[0mqubits\u001b[0m\u001b[0;34m)\u001b[0m\u001b[0;34m\u001b[0m\u001b[0;34m\u001b[0m\u001b[0m\n\u001b[0m\u001b[1;32m    488\u001b[0m             \u001b[0;32mif\u001b[0m \u001b[0mresult\u001b[0m \u001b[0;32mis\u001b[0m \u001b[0;32mFalse\u001b[0m\u001b[0;34m:\u001b[0m\u001b[0;34m\u001b[0m\u001b[0;34m\u001b[0m\u001b[0m\n\u001b[1;32m    489\u001b[0m                 \u001b[0;32mbreak\u001b[0m  \u001b[0;31m# coverage: ignore\u001b[0m\u001b[0;34m\u001b[0m\u001b[0;34m\u001b[0m\u001b[0m\n",
      "\u001b[0;32m~/opt/anaconda3/lib/python3.9/site-packages/cirq/sim/act_on_state_vector_args.py\u001b[0m in \u001b[0;36m_strat_act_on_state_vector_from_apply_unitary\u001b[0;34m(action, args, qubits)\u001b[0m\n\u001b[1;32m    558\u001b[0m     \u001b[0maction\u001b[0m\u001b[0;34m:\u001b[0m \u001b[0mAny\u001b[0m\u001b[0;34m,\u001b[0m \u001b[0margs\u001b[0m\u001b[0;34m:\u001b[0m \u001b[0;34m'cirq.ActOnStateVectorArgs'\u001b[0m\u001b[0;34m,\u001b[0m \u001b[0mqubits\u001b[0m\u001b[0;34m:\u001b[0m \u001b[0mSequence\u001b[0m\u001b[0;34m[\u001b[0m\u001b[0;34m'cirq.Qid'\u001b[0m\u001b[0;34m]\u001b[0m\u001b[0;34m\u001b[0m\u001b[0;34m\u001b[0m\u001b[0m\n\u001b[1;32m    559\u001b[0m ) -> bool:\n\u001b[0;32m--> 560\u001b[0;31m     \u001b[0;32mreturn\u001b[0m \u001b[0;32mTrue\u001b[0m \u001b[0;32mif\u001b[0m \u001b[0margs\u001b[0m\u001b[0;34m.\u001b[0m\u001b[0m_state\u001b[0m\u001b[0;34m.\u001b[0m\u001b[0mapply_unitary\u001b[0m\u001b[0;34m(\u001b[0m\u001b[0maction\u001b[0m\u001b[0;34m,\u001b[0m \u001b[0margs\u001b[0m\u001b[0;34m.\u001b[0m\u001b[0mget_axes\u001b[0m\u001b[0;34m(\u001b[0m\u001b[0mqubits\u001b[0m\u001b[0;34m)\u001b[0m\u001b[0;34m)\u001b[0m \u001b[0;32melse\u001b[0m \u001b[0mNotImplemented\u001b[0m\u001b[0;34m\u001b[0m\u001b[0;34m\u001b[0m\u001b[0m\n\u001b[0m\u001b[1;32m    561\u001b[0m \u001b[0;34m\u001b[0m\u001b[0m\n\u001b[1;32m    562\u001b[0m \u001b[0;34m\u001b[0m\u001b[0m\n",
      "\u001b[0;32m~/opt/anaconda3/lib/python3.9/site-packages/cirq/sim/act_on_state_vector_args.py\u001b[0m in \u001b[0;36mapply_unitary\u001b[0;34m(self, action, axes)\u001b[0m\n\u001b[1;32m    173\u001b[0m             \u001b[0;32mTrue\u001b[0m \u001b[0;32mif\u001b[0m \u001b[0mthe\u001b[0m \u001b[0moperation\u001b[0m \u001b[0msucceeded\u001b[0m\u001b[0;34m.\u001b[0m\u001b[0;34m\u001b[0m\u001b[0;34m\u001b[0m\u001b[0m\n\u001b[1;32m    174\u001b[0m         \"\"\"\n\u001b[0;32m--> 175\u001b[0;31m         new_target_tensor = protocols.apply_unitary(\n\u001b[0m\u001b[1;32m    176\u001b[0m             \u001b[0maction\u001b[0m\u001b[0;34m,\u001b[0m\u001b[0;34m\u001b[0m\u001b[0;34m\u001b[0m\u001b[0m\n\u001b[1;32m    177\u001b[0m             protocols.ApplyUnitaryArgs(\n",
      "\u001b[0;32m~/opt/anaconda3/lib/python3.9/site-packages/cirq/protocols/apply_unitary_protocol.py\u001b[0m in \u001b[0;36mapply_unitary\u001b[0;34m(unitary_value, args, default, allow_decompose)\u001b[0m\n\u001b[1;32m    348\u001b[0m     \u001b[0;31m# Try each strategy, stopping if one works.\u001b[0m\u001b[0;34m\u001b[0m\u001b[0;34m\u001b[0m\u001b[0m\n\u001b[1;32m    349\u001b[0m     \u001b[0;32mfor\u001b[0m \u001b[0mstrat\u001b[0m \u001b[0;32min\u001b[0m \u001b[0mstrats\u001b[0m\u001b[0;34m:\u001b[0m\u001b[0;34m\u001b[0m\u001b[0;34m\u001b[0m\u001b[0m\n\u001b[0;32m--> 350\u001b[0;31m         \u001b[0mresult\u001b[0m \u001b[0;34m=\u001b[0m \u001b[0mstrat\u001b[0m\u001b[0;34m(\u001b[0m\u001b[0munitary_value\u001b[0m\u001b[0;34m,\u001b[0m \u001b[0margs\u001b[0m\u001b[0;34m)\u001b[0m\u001b[0;34m\u001b[0m\u001b[0;34m\u001b[0m\u001b[0m\n\u001b[0m\u001b[1;32m    351\u001b[0m         \u001b[0;32mif\u001b[0m \u001b[0mresult\u001b[0m \u001b[0;32mis\u001b[0m \u001b[0;32mNone\u001b[0m\u001b[0;34m:\u001b[0m\u001b[0;34m\u001b[0m\u001b[0;34m\u001b[0m\u001b[0m\n\u001b[1;32m    352\u001b[0m             \u001b[0;32mbreak\u001b[0m\u001b[0;34m\u001b[0m\u001b[0;34m\u001b[0m\u001b[0m\n",
      "\u001b[0;32m~/opt/anaconda3/lib/python3.9/site-packages/cirq/protocols/apply_unitary_protocol.py\u001b[0m in \u001b[0;36m_strat_apply_unitary_from_unitary\u001b[0;34m(unitary_value, args)\u001b[0m\n\u001b[1;32m    415\u001b[0m     \u001b[0;32melse\u001b[0m\u001b[0;34m:\u001b[0m\u001b[0;34m\u001b[0m\u001b[0;34m\u001b[0m\u001b[0m\n\u001b[1;32m    416\u001b[0m         \u001b[0;31m# General case via np.einsum.\u001b[0m\u001b[0;34m\u001b[0m\u001b[0;34m\u001b[0m\u001b[0m\n\u001b[0;32m--> 417\u001b[0;31m         sub_result = linalg.targeted_left_multiply(\n\u001b[0m\u001b[1;32m    418\u001b[0m             \u001b[0mmatrix\u001b[0m\u001b[0;34m.\u001b[0m\u001b[0mreshape\u001b[0m\u001b[0;34m(\u001b[0m\u001b[0mval_qid_shape\u001b[0m \u001b[0;34m*\u001b[0m \u001b[0;36m2\u001b[0m\u001b[0;34m)\u001b[0m\u001b[0;34m,\u001b[0m\u001b[0;34m\u001b[0m\u001b[0;34m\u001b[0m\u001b[0m\n\u001b[1;32m    419\u001b[0m             \u001b[0msub_args\u001b[0m\u001b[0;34m.\u001b[0m\u001b[0mtarget_tensor\u001b[0m\u001b[0;34m,\u001b[0m\u001b[0;34m\u001b[0m\u001b[0;34m\u001b[0m\u001b[0m\n",
      "\u001b[0;32m~/opt/anaconda3/lib/python3.9/site-packages/cirq/linalg/transformations.py\u001b[0m in \u001b[0;36mtargeted_left_multiply\u001b[0;34m(left_matrix, right_target, target_axes, out)\u001b[0m\n\u001b[1;32m    152\u001b[0m     \u001b[0mall_indices\u001b[0m \u001b[0;34m=\u001b[0m \u001b[0mset\u001b[0m\u001b[0;34m(\u001b[0m\u001b[0minput_indices\u001b[0m \u001b[0;34m+\u001b[0m \u001b[0mdata_indices\u001b[0m \u001b[0;34m+\u001b[0m \u001b[0mtuple\u001b[0m\u001b[0;34m(\u001b[0m\u001b[0moutput_indices\u001b[0m\u001b[0;34m)\u001b[0m\u001b[0;34m)\u001b[0m\u001b[0;34m\u001b[0m\u001b[0;34m\u001b[0m\u001b[0m\n\u001b[1;32m    153\u001b[0m \u001b[0;34m\u001b[0m\u001b[0m\n\u001b[0;32m--> 154\u001b[0;31m     return np.einsum(\n\u001b[0m\u001b[1;32m    155\u001b[0m         \u001b[0mleft_matrix\u001b[0m\u001b[0;34m,\u001b[0m\u001b[0;34m\u001b[0m\u001b[0;34m\u001b[0m\u001b[0m\n\u001b[1;32m    156\u001b[0m         \u001b[0minput_indices\u001b[0m\u001b[0;34m,\u001b[0m\u001b[0;34m\u001b[0m\u001b[0;34m\u001b[0m\u001b[0m\n",
      "\u001b[0;32m<__array_function__ internals>\u001b[0m in \u001b[0;36meinsum\u001b[0;34m(*args, **kwargs)\u001b[0m\n",
      "\u001b[0;32m~/opt/anaconda3/lib/python3.9/site-packages/numpy/core/einsumfunc.py\u001b[0m in \u001b[0;36meinsum\u001b[0;34m(out, optimize, *operands, **kwargs)\u001b[0m\n\u001b[1;32m   1357\u001b[0m         \u001b[0;32mif\u001b[0m \u001b[0mspecified_out\u001b[0m\u001b[0;34m:\u001b[0m\u001b[0;34m\u001b[0m\u001b[0;34m\u001b[0m\u001b[0m\n\u001b[1;32m   1358\u001b[0m             \u001b[0mkwargs\u001b[0m\u001b[0;34m[\u001b[0m\u001b[0;34m'out'\u001b[0m\u001b[0;34m]\u001b[0m \u001b[0;34m=\u001b[0m \u001b[0mout\u001b[0m\u001b[0;34m\u001b[0m\u001b[0;34m\u001b[0m\u001b[0m\n\u001b[0;32m-> 1359\u001b[0;31m         \u001b[0;32mreturn\u001b[0m \u001b[0mc_einsum\u001b[0m\u001b[0;34m(\u001b[0m\u001b[0;34m*\u001b[0m\u001b[0moperands\u001b[0m\u001b[0;34m,\u001b[0m \u001b[0;34m**\u001b[0m\u001b[0mkwargs\u001b[0m\u001b[0;34m)\u001b[0m\u001b[0;34m\u001b[0m\u001b[0;34m\u001b[0m\u001b[0m\n\u001b[0m\u001b[1;32m   1360\u001b[0m \u001b[0;34m\u001b[0m\u001b[0m\n\u001b[1;32m   1361\u001b[0m     \u001b[0;31m# Check the kwargs to avoid a more cryptic error later, without having to\u001b[0m\u001b[0;34m\u001b[0m\u001b[0;34m\u001b[0m\u001b[0m\n",
      "\u001b[0;31mKeyboardInterrupt\u001b[0m: "
     ]
    }
   ],
   "source": [
    "simulate_f4qca(0.005)"
   ]
  },
  {
   "cell_type": "code",
   "execution_count": null,
   "metadata": {
    "id": "BebGP7VqJIHc"
   },
   "outputs": [],
   "source": [
    "simulate_f4qca(0.01)"
   ]
  },
  {
   "cell_type": "code",
   "execution_count": null,
   "metadata": {
    "id": "nqJB-z2rJIiX"
   },
   "outputs": [],
   "source": [
    "simulate_f4qca(0.02)"
   ]
  },
  {
   "cell_type": "code",
   "execution_count": null,
   "metadata": {
    "id": "QMZ96aVDJJBD"
   },
   "outputs": [],
   "source": [
    "simulate_f4qca(0.05)"
   ]
  },
  {
   "cell_type": "markdown",
   "metadata": {
    "id": "ZupS_z36JJbV"
   },
   "source": [
    "### F4 qca with imperfect SPS"
   ]
  },
  {
   "cell_type": "code",
   "execution_count": null,
   "metadata": {
    "id": "C3kQvdRFFve7"
   },
   "outputs": [],
   "source": [
    "IMPERFECT_DIR = 'imperfect'\n",
    "if not os.path.exists(PS_DIR+'/'+IMPERFECT_DIR):\n",
    "    os.makedirs(PS_DIR+'/'+IMPERFECT_DIR)"
   ]
  },
  {
   "cell_type": "code",
   "execution_count": null,
   "metadata": {
    "id": "UDiqkf8SC0Fo"
   },
   "outputs": [],
   "source": [
    "T = 30\n",
    "N = 15\n",
    "nmeas = 5_000\n",
    "qubits = cirq.LineQubit.range(N)\n",
    "err_p = .02\n",
    "\n",
    "# we got this line from the GatherData.ipynb notebook, which discovers which states are useful here\n",
    "init_bstr_possible_failures = [\n",
    "  '001000011111111', '011100000001000', '011110101011111', \n",
    "  '011110000010001', '011101000001000', '011000000101010', \n",
    "  '011110111110011', '010110111110100', '100010000010000', '101000111011111', '101111010100001', '101000010001000', \n",
    "  '111111101111100', '110111111110101', '111111101010111', '111100010111110', '110111111010001', '110101000000100'   \n",
    "]\n",
    "\n",
    "start = 0\n",
    "for ff,init_bstr in enumerate(init_bstr_possible_failures[start:]):\n",
    "    print('Starting at no', ff+start, init_bstr)\n",
    "    noisy_timestep = cirq.align_left(cw.circuit_F4QCA_noise(qubits, error_rate=err_p, even=True))\n",
    "\n",
    "    # Ideal simulation\n",
    "    ideal_timeseries_hist = []\n",
    "    for t in range(T):\n",
    "        result = qsimcirq.QSimSimulator().run(\n",
    "                            cirq.align_left(cirq.Circuit([cirq.X(qubits[i]) for i,v in enumerate(init_bstr) if v=='1'], \n",
    "                                        cirq.I.on_each(qubits),\n",
    "                                        [cirq.align_left(cw.circuit_F4QCA(qubits, (ti%2)==0) for ti in range(t))],\n",
    "                                        cirq.measure(*qubits, key='z')\n",
    "                                        )),\n",
    "                            repetitions=nmeas\n",
    "                      ).histogram(key='z')\n",
    "        ideal_timeseries_hist.append((t,result))\n",
    "\n",
    "    # save ideal\n",
    "    with open('f4qca{}_ideal_N={}_p={}_shots={}.json'.format(init_bstr,N,err_p,nmeas),'w') as f:\n",
    "        f.write(json.dumps(ideal_timeseries_hist, indent=2))\n",
    "    print('saved ideal simulation, running noise simulation')\n",
    "\n",
    "    # Noisy simulation\n",
    "    noisy_timeseries_hist = []\n",
    "    for t in range(T):\n",
    "        print('t:',t)\n",
    "        result = qsimcirq.QSimSimulator().run(\n",
    "                            cirq.align_left(cirq.Circuit([cirq.X(qubits[i]) for i,v in enumerate(init_bstr) if v=='1'], \n",
    "                                        cirq.I.on_each(qubits),\n",
    "                                        cirq.align_left([cw.circuit_F4QCA_noise(qubits, error_rate=err_p, even=(ti%2)==0) for ti in range(t)]),\n",
    "                                        cirq.measure(*qubits, key='z')                                      \n",
    "                                        )),\n",
    "                            repetitions=nmeas\n",
    "                        ).histogram(key='z')\n",
    "        noisy_timeseries_hist.append((t,result))        \n",
    "\n",
    "    # save noisy\n",
    "    with open('{}/{}/f4qca{}_noise_N={}_p={}_shots={}.json'.format(PS_DIR,IMPERFECT_DIR,init_bstr,N,err_p,nmeas),'w') as f:\n",
    "        f.write(json.dumps(noisy_timeseries_hist, indent=2))"
   ]
  }
 ],
 "metadata": {
  "colab": {
   "provenance": []
  },
  "gpuClass": "standard",
  "kernelspec": {
   "display_name": "Python 3 (ipykernel)",
   "language": "python",
   "name": "python3"
  },
  "language_info": {
   "codemirror_mode": {
    "name": "ipython",
    "version": 3
   },
   "file_extension": ".py",
   "mimetype": "text/x-python",
   "name": "python",
   "nbconvert_exporter": "python",
   "pygments_lexer": "ipython3",
   "version": "3.9.13"
  }
 },
 "nbformat": 4,
 "nbformat_minor": 1
}
